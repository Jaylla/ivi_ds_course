{
 "cells": [
  {
   "cell_type": "markdown",
   "metadata": {
    "collapsed": true
   },
   "source": [
    " # Unit-testing\n",
    "\n",
    "Принципы построения\n",
    "\n",
    "Быстрота (Fast). Тесты должны выполняться быстро. Комплекс тестов запускается перед каждом коммите, но никто не захочет запускать тесты при каждом изменении кода, если они будут долго выполняться.\n",
    "\n",
    "Независимость (Independent). Результаты выполнения одного теста не должны быть входными данными для другого. Все тесты должны выполняться в произвольном порядке.\n",
    "\n",
    "Повторяемость (Repeatable). Тесты должны давать одинаковые результаты не зависимо от среды выполнения. Результаты не должны зависеть от того, выполняются ли они на вашем локальном компьютере, на компьютере соседа или же на билд-сервере.\n",
    "\n",
    "Очевидность (Self-Validating). Результатом выполнения теста должно быть булево значение. Тест либо прошел, либо не прошел и это должно быть легко понятно любому разработчику.  Не нужно заставлять людей читать логи только для того, чтобы определить прошел тест успешно или нет.\n",
    "\n",
    "Своевременность (Timely). Тесты должны создаваться своевременно. Даже если вы и не будете писать тесты перед кодом (хотя этот вариант уже доказал свою жизнеспособность) их нужно писать как минимум параллельно с кодом."
   ]
  },
  {
   "cell_type": "code",
   "execution_count": 30,
   "metadata": {},
   "outputs": [
    {
     "name": "stdout",
     "output_type": "stream",
     "text": [
      "['123', '3455']\n"
     ]
    }
   ],
   "source": [
    "import re\n",
    "\n",
    "class MySmartString:\n",
    "    def __init__(self, s):\n",
    "        self._s = s\n",
    "        \n",
    "    def __str__(self):\n",
    "       return self._s\n",
    "    \n",
    "    def extract_numbers(self):\n",
    "        return re.findall(\"\\d+\", self._s)\n",
    "        \n",
    "s = MySmartString(\"my numbers 123 test 3455\")\n",
    "print(s.extract_numbers())"
   ]
  },
  {
   "cell_type": "markdown",
   "metadata": {},
   "source": [
    "# Вроде все ок?\n",
    "\n",
    "При написании unit-тестов обычно берется один образец входных данных из класса эквивалентности в тестируемой проблемной области."
   ]
  },
  {
   "cell_type": "code",
   "execution_count": 36,
   "metadata": {},
   "outputs": [
    {
     "name": "stderr",
     "output_type": "stream",
     "text": [
      "test_extract_numbers_digits_with_letters (__main__.TestMySmartString) ... ok\n",
      "test_extract_numbers_few_numbers (__main__.TestMySmartString) ... ok\n",
      "test_extract_numbers_only_digits (__main__.TestMySmartString) ... ok\n",
      "test_extract_numbers_signed_number (__main__.TestMySmartString) ... FAIL\n",
      "test_extract_numbers_without_numbers (__main__.TestMySmartString) ... ok\n",
      "\n",
      "======================================================================\n",
      "FAIL: test_extract_numbers_signed_number (__main__.TestMySmartString)\n",
      "----------------------------------------------------------------------\n",
      "Traceback (most recent call last):\n",
      "  File \"<ipython-input-36-d7c3480e7d64>\", line 19, in test_extract_numbers_signed_number\n",
      "    self.assertEqual(s.extract_numbers(), ['-123'])\n",
      "AssertionError: Lists differ: ['123'] != ['-123']\n",
      "\n",
      "First differing element 0:\n",
      "'123'\n",
      "'-123'\n",
      "\n",
      "- ['123']\n",
      "+ ['-123']\n",
      "?   +\n",
      "\n",
      "\n",
      "----------------------------------------------------------------------\n",
      "Ran 5 tests in 0.016s\n",
      "\n",
      "FAILED (failures=1)\n"
     ]
    },
    {
     "data": {
      "text/plain": [
       "<unittest.main.TestProgram at 0x10723eeb8>"
      ]
     },
     "execution_count": 36,
     "metadata": {},
     "output_type": "execute_result"
    }
   ],
   "source": [
    "import unittest\n",
    " \n",
    " \n",
    "class TestMySmartString(unittest.TestCase):\n",
    "    def test_extract_numbers_only_digits(self):\n",
    "        s = MySmartString(\"123\")\n",
    "        self.assertEqual(s.extract_numbers(), ['123'])\n",
    "        \n",
    "    def test_extract_numbers_digits_with_letters(self):\n",
    "        s = MySmartString(\"some text 123\")\n",
    "        self.assertEqual(s.extract_numbers(), ['123'])\n",
    "        \n",
    "    def test_extract_numbers_few_numbers(self):\n",
    "        s = MySmartString(\"some text 123 and 3456\")\n",
    "        self.assertEqual(s.extract_numbers(), ['123', '3456'])\n",
    "        \n",
    "    def test_extract_numbers_signed_number(self):\n",
    "        s = MySmartString(\"some text -123\")\n",
    "        self.assertEqual(s.extract_numbers(), ['-123'])\n",
    "    \n",
    "    def test_extract_numbers_without_numbers(self):\n",
    "        s = MySmartString(\"some text\")\n",
    "        self.assertEqual(s.extract_numbers(), [])\n",
    " \n",
    "unittest.main(argv=[''], verbosity=2, exit=False)"
   ]
  },
  {
   "cell_type": "code",
   "execution_count": 40,
   "metadata": {},
   "outputs": [
    {
     "name": "stdout",
     "output_type": "stream",
     "text": [
      "['123', '-3455']\n"
     ]
    }
   ],
   "source": [
    "import re\n",
    "\n",
    "class MySmartStringImproved:\n",
    "    def __init__(self, s):\n",
    "        self._s = s\n",
    "        \n",
    "    def __str__(self):\n",
    "       return self._s\n",
    "    \n",
    "    def extract_numbers(self):\n",
    "        return re.findall(\"\\-?\\d+\", self._s)\n",
    "        \n",
    "s = MySmartStringImproved(\"my numbers 123 test -3455\")\n",
    "print(s.extract_numbers())"
   ]
  },
  {
   "cell_type": "code",
   "execution_count": 41,
   "metadata": {},
   "outputs": [
    {
     "name": "stderr",
     "output_type": "stream",
     "text": [
      "test_extract_numbers_digits_with_letters (__main__.TestMySmartString) ... ok\n",
      "test_extract_numbers_few_numbers (__main__.TestMySmartString) ... ok\n",
      "test_extract_numbers_only_digits (__main__.TestMySmartString) ... ok\n",
      "test_extract_numbers_signed_number (__main__.TestMySmartString) ... FAIL\n",
      "test_extract_numbers_without_numbers (__main__.TestMySmartString) ... ok\n",
      "test_extract_numbers_digits_with_letters (__main__.TestMySmartStringImproved) ... ok\n",
      "test_extract_numbers_few_numbers (__main__.TestMySmartStringImproved) ... ok\n",
      "test_extract_numbers_only_digits (__main__.TestMySmartStringImproved) ... ok\n",
      "test_extract_numbers_signed_number (__main__.TestMySmartStringImproved) ... ok\n",
      "test_extract_numbers_without_numbers (__main__.TestMySmartStringImproved) ... ok\n",
      "\n",
      "======================================================================\n",
      "FAIL: test_extract_numbers_signed_number (__main__.TestMySmartString)\n",
      "----------------------------------------------------------------------\n",
      "Traceback (most recent call last):\n",
      "  File \"<ipython-input-36-d7c3480e7d64>\", line 19, in test_extract_numbers_signed_number\n",
      "    self.assertEqual(s.extract_numbers(), ['-123'])\n",
      "AssertionError: Lists differ: ['123'] != ['-123']\n",
      "\n",
      "First differing element 0:\n",
      "'123'\n",
      "'-123'\n",
      "\n",
      "- ['123']\n",
      "+ ['-123']\n",
      "?   +\n",
      "\n",
      "\n",
      "----------------------------------------------------------------------\n",
      "Ran 10 tests in 0.017s\n",
      "\n",
      "FAILED (failures=1)\n"
     ]
    },
    {
     "data": {
      "text/plain": [
       "<unittest.main.TestProgram at 0x10723eda0>"
      ]
     },
     "execution_count": 41,
     "metadata": {},
     "output_type": "execute_result"
    }
   ],
   "source": [
    "import unittest\n",
    " \n",
    " \n",
    "class TestMySmartStringImproved(unittest.TestCase):\n",
    "    def test_extract_numbers_only_digits(self):\n",
    "        s = MySmartStringImproved(\"123\")\n",
    "        self.assertEqual(s.extract_numbers(), ['123'])\n",
    "        \n",
    "    def test_extract_numbers_digits_with_letters(self):\n",
    "        s = MySmartStringImproved(\"some text 123\")\n",
    "        self.assertEqual(s.extract_numbers(), ['123'])\n",
    "        \n",
    "    def test_extract_numbers_few_numbers(self):\n",
    "        s = MySmartStringImproved(\"some text 123 and 3456\")\n",
    "        self.assertEqual(s.extract_numbers(), ['123', '3456'])\n",
    "        \n",
    "    def test_extract_numbers_signed_number(self):\n",
    "        s = MySmartStringImproved(\"some text -123\")\n",
    "        self.assertEqual(s.extract_numbers(), ['-123'])\n",
    "    \n",
    "    def test_extract_numbers_without_numbers(self):\n",
    "        s = MySmartStringImproved(\"some text\")\n",
    "        self.assertEqual(s.extract_numbers(), [])\n",
    " \n",
    "unittest.main(argv=[''], verbosity=2, exit=False)"
   ]
  },
  {
   "cell_type": "markdown",
   "metadata": {},
   "source": [
    "# Mock"
   ]
  },
  {
   "cell_type": "code",
   "execution_count": 48,
   "metadata": {},
   "outputs": [
    {
     "name": "stdout",
     "output_type": "stream",
     "text": [
      "test 1 test 3 test -2\n",
      "2\n"
     ]
    }
   ],
   "source": [
    "class MyStringAdder:\n",
    "    def __init__(self, s):\n",
    "        self._s = MySmartStringImproved(s)\n",
    "        \n",
    "    def __str__(self):\n",
    "       return str(self._s)\n",
    "    \n",
    "    def all_numbers_sum(self):\n",
    "        num_sum = 0\n",
    "        for i in self._s.extract_numbers():\n",
    "            num_sum += int(i)\n",
    "        return(num_sum)\n",
    "    \n",
    "s = MyStringAdder(\"test 1 test 3 test -2\")\n",
    "print(s)\n",
    "print(s.all_numbers_sum())"
   ]
  },
  {
   "cell_type": "markdown",
   "metadata": {},
   "source": [
    "# Но тестировать надо отдельно"
   ]
  },
  {
   "cell_type": "code",
   "execution_count": 65,
   "metadata": {},
   "outputs": [
    {
     "name": "stderr",
     "output_type": "stream",
     "text": [
      "test_extract_numbers_digits_with_letters (__main__.TestMySmartString) ... ok\n",
      "test_extract_numbers_few_numbers (__main__.TestMySmartString) ... ok\n",
      "test_extract_numbers_only_digits (__main__.TestMySmartString) ... ok\n",
      "test_extract_numbers_signed_number (__main__.TestMySmartString) ... FAIL\n",
      "test_extract_numbers_without_numbers (__main__.TestMySmartString) ... ok\n",
      "test_extract_numbers_digits_with_letters (__main__.TestMySmartStringImproved) ... ok\n",
      "test_extract_numbers_few_numbers (__main__.TestMySmartStringImproved) ... ok\n",
      "test_extract_numbers_only_digits (__main__.TestMySmartStringImproved) ... ok\n",
      "test_extract_numbers_signed_number (__main__.TestMySmartStringImproved) ... ok\n",
      "test_extract_numbers_without_numbers (__main__.TestMySmartStringImproved) ... ok\n",
      "test_all_numbers_sum (__main__.TestMyStringAdder) ... ok\n",
      "test_extract_numbers_only_digits (__main__.TestMyStringAdder_new) ... ok\n",
      "\n",
      "======================================================================\n",
      "FAIL: test_extract_numbers_signed_number (__main__.TestMySmartString)\n",
      "----------------------------------------------------------------------\n",
      "Traceback (most recent call last):\n",
      "  File \"<ipython-input-36-d7c3480e7d64>\", line 19, in test_extract_numbers_signed_number\n",
      "    self.assertEqual(s.extract_numbers(), ['-123'])\n",
      "AssertionError: Lists differ: ['123'] != ['-123']\n",
      "\n",
      "First differing element 0:\n",
      "'123'\n",
      "'-123'\n",
      "\n",
      "- ['123']\n",
      "+ ['-123']\n",
      "?   +\n",
      "\n",
      "\n",
      "----------------------------------------------------------------------\n",
      "Ran 12 tests in 0.015s\n",
      "\n",
      "FAILED (failures=1)\n"
     ]
    },
    {
     "data": {
      "text/plain": [
       "<unittest.main.TestProgram at 0x10760c2e8>"
      ]
     },
     "execution_count": 65,
     "metadata": {},
     "output_type": "execute_result"
    }
   ],
   "source": [
    "from mock import MagicMock\n",
    "\n",
    "class TestMyStringAdder(unittest.TestCase):\n",
    "    def test_all_numbers_sum(self):      \n",
    "        test_string = MyStringAdder(\"123\")\n",
    "        test_string._s.extract_numbers = MagicMock(return_value=['10', '-5', '1'])\n",
    "        self.assertEqual(test_string.all_numbers_sum(), 6)\n",
    "        \n",
    "unittest.main(argv=[''], verbosity=2, exit=False)"
   ]
  },
  {
   "cell_type": "code",
   "execution_count": 66,
   "metadata": {},
   "outputs": [
    {
     "name": "stderr",
     "output_type": "stream",
     "text": [
      "test_extract_numbers_digits_with_letters (__main__.TestMySmartString) ... ok\n",
      "test_extract_numbers_few_numbers (__main__.TestMySmartString) ... ok\n",
      "test_extract_numbers_only_digits (__main__.TestMySmartString) ... ok\n",
      "test_extract_numbers_signed_number (__main__.TestMySmartString) ... FAIL\n",
      "test_extract_numbers_without_numbers (__main__.TestMySmartString) ... ok\n",
      "test_extract_numbers_digits_with_letters (__main__.TestMySmartStringImproved) ... ok\n",
      "test_extract_numbers_few_numbers (__main__.TestMySmartStringImproved) ... ok\n",
      "test_extract_numbers_only_digits (__main__.TestMySmartStringImproved) ... ok\n",
      "test_extract_numbers_signed_number (__main__.TestMySmartStringImproved) ... ok\n",
      "test_extract_numbers_without_numbers (__main__.TestMySmartStringImproved) ... ok\n",
      "test_all_numbers_sum (__main__.TestMyStringAdder) ... ok\n",
      "test_all_numbers_sum (__main__.TestMyStringAdder_new) ... ok\n",
      "\n",
      "======================================================================\n",
      "FAIL: test_extract_numbers_signed_number (__main__.TestMySmartString)\n",
      "----------------------------------------------------------------------\n",
      "Traceback (most recent call last):\n",
      "  File \"<ipython-input-36-d7c3480e7d64>\", line 19, in test_extract_numbers_signed_number\n",
      "    self.assertEqual(s.extract_numbers(), ['-123'])\n",
      "AssertionError: Lists differ: ['123'] != ['-123']\n",
      "\n",
      "First differing element 0:\n",
      "'123'\n",
      "'-123'\n",
      "\n",
      "- ['123']\n",
      "+ ['-123']\n",
      "?   +\n",
      "\n",
      "\n",
      "----------------------------------------------------------------------\n",
      "Ran 12 tests in 0.015s\n",
      "\n",
      "FAILED (failures=1)\n"
     ]
    },
    {
     "data": {
      "text/plain": [
       "<unittest.main.TestProgram at 0x107644080>"
      ]
     },
     "execution_count": 66,
     "metadata": {},
     "output_type": "execute_result"
    }
   ],
   "source": [
    "from mock import patch\n",
    "from . import MySmartStringImproved\n",
    "\n",
    "\n",
    "class TestMyStringAdder_new(unittest.TestCase):\n",
    "    @patch.object(MySmartStringImproved, 'extract_numbers')\n",
    "    def test_all_numbers_sum(self, extract_numbers):\n",
    "        extract_numbers.return_value = ['10', '-5', '1']\n",
    "        test_string = MyStringAdder(\"test\")\n",
    "        self.assertEqual(test_string.all_numbers_sum(), 6)\n",
    "        \n",
    "unittest.main(argv=[''], verbosity=2, exit=False)"
   ]
  },
  {
   "cell_type": "code",
   "execution_count": 69,
   "metadata": {},
   "outputs": [
    {
     "name": "stderr",
     "output_type": "stream",
     "text": [
      "test_extract_numbers_digits_with_letters (__main__.TestMySmartString) ... ok\n",
      "test_extract_numbers_few_numbers (__main__.TestMySmartString) ... ok\n",
      "test_extract_numbers_only_digits (__main__.TestMySmartString) ... ok\n",
      "test_extract_numbers_signed_number (__main__.TestMySmartString) ... FAIL\n",
      "test_extract_numbers_without_numbers (__main__.TestMySmartString) ... ok\n",
      "test_extract_numbers_digits_with_letters (__main__.TestMySmartStringImproved) ... ok\n",
      "test_extract_numbers_few_numbers (__main__.TestMySmartStringImproved) ... ok\n",
      "test_extract_numbers_only_digits (__main__.TestMySmartStringImproved) ... ok\n",
      "test_extract_numbers_signed_number (__main__.TestMySmartStringImproved) ... ok\n",
      "test_extract_numbers_without_numbers (__main__.TestMySmartStringImproved) ... ok\n",
      "test_all_numbers_sum (__main__.TestMyStringAdder) ... ok\n",
      "test_all_numbers_sum (__main__.TestMyStringAdder_new) ... ok\n",
      "test_all_numbers_sum_neg_res (__main__.TestMyStringAdder_new2) ... ok\n",
      "test_all_numbers_sum_positive_res (__main__.TestMyStringAdder_new2) ... ok\n",
      "\n",
      "======================================================================\n",
      "FAIL: test_extract_numbers_signed_number (__main__.TestMySmartString)\n",
      "----------------------------------------------------------------------\n",
      "Traceback (most recent call last):\n",
      "  File \"<ipython-input-36-d7c3480e7d64>\", line 19, in test_extract_numbers_signed_number\n",
      "    self.assertEqual(s.extract_numbers(), ['-123'])\n",
      "AssertionError: Lists differ: ['123'] != ['-123']\n",
      "\n",
      "First differing element 0:\n",
      "'123'\n",
      "'-123'\n",
      "\n",
      "- ['123']\n",
      "+ ['-123']\n",
      "?   +\n",
      "\n",
      "\n",
      "----------------------------------------------------------------------\n",
      "Ran 14 tests in 0.024s\n",
      "\n",
      "FAILED (failures=1)\n"
     ]
    },
    {
     "data": {
      "text/plain": [
       "<unittest.main.TestProgram at 0x107669cf8>"
      ]
     },
     "execution_count": 69,
     "metadata": {},
     "output_type": "execute_result"
    }
   ],
   "source": [
    "from mock import patch\n",
    "from . import MySmartStringImproved\n",
    "\n",
    "\n",
    "class TestMyStringAdder_new2(unittest.TestCase):\n",
    "    def setUp(self):\n",
    "        self._string_adder = MyStringAdder(\"test\")\n",
    "    \n",
    "    @patch.object(MySmartStringImproved, 'extract_numbers')\n",
    "    def test_all_numbers_sum_positive_res(self, extract_numbers):\n",
    "        extract_numbers.return_value = ['10', '-5', '1']\n",
    "        self.assertEqual(self._string_adder.all_numbers_sum(), 6)\n",
    "        \n",
    "    @patch.object(MySmartStringImproved, 'extract_numbers')\n",
    "    def test_all_numbers_sum_neg_res(self, extract_numbers):\n",
    "        extract_numbers.return_value = ['10', '-7', '-4']\n",
    "        self.assertEqual(self._string_adder.all_numbers_sum(), -1)\n",
    "        \n",
    "unittest.main(argv=[''], verbosity=2, exit=False)"
   ]
  },
  {
   "cell_type": "code",
   "execution_count": null,
   "metadata": {},
   "outputs": [],
   "source": []
  }
 ],
 "metadata": {
  "kernelspec": {
   "display_name": "Python 3",
   "language": "python",
   "name": "python3"
  },
  "language_info": {
   "codemirror_mode": {
    "name": "ipython",
    "version": 3
   },
   "file_extension": ".py",
   "mimetype": "text/x-python",
   "name": "python",
   "nbconvert_exporter": "python",
   "pygments_lexer": "ipython3",
   "version": "3.7.1"
  }
 },
 "nbformat": 4,
 "nbformat_minor": 1
}
