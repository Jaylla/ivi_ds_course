{
 "cells": [
  {
   "cell_type": "markdown",
   "metadata": {
    "collapsed": true
   },
   "source": [
    "# Классы\n",
    "\n",
    "Когда мы определяем класс, мы создаем собственный тип данных, для которого можем создать набор методов и атрибутов.\n",
    "Самое главное в жизни - научиться различать класс и его экземпляры (инстансы)"
   ]
  },
  {
   "cell_type": "code",
   "execution_count": 23,
   "metadata": {
    "collapsed": false
   },
   "outputs": [],
   "source": [
    "class my_class:\n",
    "    def __init__(self, arg):\n",
    "        \"\"\"Конструктор\"\"\"\n",
    "        self.arg = arg    # аргумент (задаем значение при создании класса)\n",
    "\n",
    "    def method1(self, x):\n",
    "        \"\"\"метод, входящий в интерфейс класса\"\"\"\n",
    "        print('Напечатаем значение аргумента: {}. И еще какое-то значение: {}'.format(self.arg, x))\n",
    "\n",
    "    def __method2(self, y):\n",
    "        \"\"\"метод доступный только внутри класса\"\"\"\n",
    "        print('Напечатаем передаваемое в функцию значение: {}'.format(y))"
   ]
  },
  {
   "cell_type": "code",
   "execution_count": 24,
   "metadata": {
    "collapsed": true
   },
   "outputs": [],
   "source": [
    "# Создаем экземпляры класса\n",
    "myinstance1 = my_class(4)\n",
    "myinstance2 = my_class(77)"
   ]
  },
  {
   "cell_type": "code",
   "execution_count": 25,
   "metadata": {
    "collapsed": false
   },
   "outputs": [
    {
     "ename": "NameError",
     "evalue": "name 'arg' is not defined",
     "traceback": [
      "\u001b[0;31m---------------------------------------------------------------------------\u001b[0m",
      "\u001b[0;31mNameError\u001b[0m                                 Traceback (most recent call last)",
      "\u001b[0;32m<ipython-input-25-a095951cd621>\u001b[0m in \u001b[0;36m<module>\u001b[0;34m()\u001b[0m\n\u001b[1;32m      1\u001b[0m \u001b[0;31m# arg существует внутри экземпляров класса MyClass\u001b[0m\u001b[0;34m\u001b[0m\u001b[0;34m\u001b[0m\u001b[0m\n\u001b[0;32m----> 2\u001b[0;31m \u001b[0marg\u001b[0m\u001b[0;34m\u001b[0m\u001b[0m\n\u001b[0m",
      "\u001b[0;31mNameError\u001b[0m: name 'arg' is not defined"
     ],
     "output_type": "error"
    }
   ],
   "source": [
    "# arg существует внутри экземпляров класса MyClass\n",
    "arg"
   ]
  },
  {
   "cell_type": "code",
   "execution_count": 26,
   "metadata": {
    "collapsed": false
   },
   "outputs": [
    {
     "name": "stdout",
     "output_type": "stream",
     "text": [
      "4\n",
      "77\n"
     ]
    }
   ],
   "source": [
    "# Причем для каждого класса он свой\n",
    "print(myinstance1.arg)\n",
    "print(myinstance2.arg)"
   ]
  },
  {
   "cell_type": "code",
   "execution_count": 27,
   "metadata": {
    "collapsed": false
   },
   "outputs": [
    {
     "name": "stdout",
     "output_type": "stream",
     "text": [
      "Напечатаем значение аргумента: 4. И еще какое-то значение: 1\n",
      "Напечатаем значение аргумента: 4. И еще какое-то значение: 9\n",
      "Напечатаем значение аргумента: 77. И еще какое-то значение: 111\n"
     ]
    }
   ],
   "source": [
    "# Если вам понятно, что должны вывести эти три строчки - все идет хорошо :)\n",
    "myinstance1.method1(1)\n",
    "myinstance1.method1(9)\n",
    "myinstance2.method1(111)"
   ]
  },
  {
   "cell_type": "code",
   "execution_count": 28,
   "metadata": {
    "collapsed": false
   },
   "outputs": [
    {
     "ename": "AttributeError",
     "evalue": "'my_class' object has no attribute '__method2'",
     "traceback": [
      "\u001b[0;31m---------------------------------------------------------------------------\u001b[0m",
      "\u001b[0;31mAttributeError\u001b[0m                            Traceback (most recent call last)",
      "\u001b[0;32m<ipython-input-28-d1a24f3f0d0b>\u001b[0m in \u001b[0;36m<module>\u001b[0;34m()\u001b[0m\n\u001b[1;32m      1\u001b[0m \u001b[0;31m# Сюда у нас доступа нет\u001b[0m\u001b[0;34m\u001b[0m\u001b[0;34m\u001b[0m\u001b[0m\n\u001b[0;32m----> 2\u001b[0;31m \u001b[0mmyinstance1\u001b[0m\u001b[0;34m.\u001b[0m\u001b[0m__method2\u001b[0m\u001b[0;34m(\u001b[0m\u001b[0;36m3\u001b[0m\u001b[0;34m)\u001b[0m\u001b[0;34m\u001b[0m\u001b[0m\n\u001b[0m",
      "\u001b[0;31mAttributeError\u001b[0m: 'my_class' object has no attribute '__method2'"
     ],
     "output_type": "error"
    }
   ],
   "source": [
    "# Сюда у нас доступа нет\n",
    "myinstance1.__method2(3)"
   ]
  },
  {
   "cell_type": "markdown",
   "metadata": {
    "collapsed": true
   },
   "source": [
    "В общем случае в разных языках программирования термин **«инкапсуляция»** относится к одной или обеим одновременно следующим нотациям:\n",
    "\n",
    "* механизм языка, позволяющий ограничить доступ одних компонентов программы к другим;\n",
    "* языковая конструкция, позволяющая связать данные с методами, предназначенными для обработки этих данных.\n",
    "\n",
    "Инкапсуляция – это свойство системы, позволяющее объединить данные и методы, работающие с ними, в классе и скрыть детали\n",
    "реализации от пользователя.\n",
    "\n",
    "Подробнее читать тут: https://wombat.org.ua/AByteOfPython/object_oriented_programming.html"
   ]
  },
  {
   "cell_type": "markdown",
   "metadata": {},
   "source": [
    "# Магические методы\n",
    "\n",
    "Если для класса определен метод \\__init\\__(self), то он автоматически вызывается сразу после создания экземпляра класса (конструктор)\n",
    "\n",
    "\\__del\\__(self) - вызывается при удалении объекта сборщиком мусора (деструктор)\n",
    "\n",
    "Также \"магические\" методы могут определять поведение для арифметических операций, операций сравнения, присваивания и т.д.\n",
    "Основные из них:\n",
    "\n",
    "* \\__eq\\__(self, other) - Определяет поведение оператора равенства, ==\n",
    "* \\__ne\\__(self, other) - Определяет поведение оператора неравенства, !=.\n",
    "* \\__lt\\__(self, other) - Определяет поведение оператора меньше, <.\n",
    "* \\__gt\\__(self, other) - Определяет поведение оператора больше, >.\n",
    "\n",
    "* \\__add\\__(self, other) - Сложение\n",
    "* \\__sub\\__(self, other) - Вычитание\n",
    "* \\__mul\\__(self, other) - Умножение\n",
    "* \\__truediv\\__(self, other) - Деление, оператор /\n",
    "\n",
    "Еще полезное:\n",
    "* \\__str\\__(self) - Определяет поведение функции str(), вызванной для экземпляра вашего класса\n",
    "\n",
    "Подробнее в статье: https://habrahabr.ru/post/186608/\n",
    "\n",
    "# Пример"
   ]
  },
  {
   "cell_type": "code",
   "execution_count": 17,
   "metadata": {
    "collapsed": false
   },
   "outputs": [],
   "source": [
    "class complex_number:\n",
    "    def __init__(self, a, b):\n",
    "        self.a = a\n",
    "        self.b = b\n",
    "\n",
    "    def __str__(self):\n",
    "        '''Returns complex number as a string'''\n",
    "        return '{} + {}i'.format(self.a, self.b) \n",
    "\n",
    "    def __add__(self, other):\n",
    "        '''Adds complex numbers'''\n",
    "        return complex_number(self.a + other.a, self.b + other.b)\n",
    "\n",
    "    def __sub__(self, other):\n",
    "        '''Subtracts complex numbers'''\n",
    "        return complex_number(self.a - other.a, self.b - other.b)\n",
    "\n",
    "    def __mul__(self, other):\n",
    "        '''Multiplies complex numbers'''\n",
    "        return complex_number(self.a * other.a - self.b * other.b, \n",
    "                              self.a * other.b - self.b * other.a)"
   ]
  },
  {
   "cell_type": "code",
   "execution_count": 21,
   "metadata": {
    "collapsed": false
   },
   "outputs": [
    {
     "name": "stdout",
     "output_type": "stream",
     "text": [
      "1 + 2i\n",
      "70 + 30i\n",
      "71 + 32i\n",
      "10 + -110i\n"
     ]
    }
   ],
   "source": [
    "complex1 = complex_number(1, 2)\n",
    "complex2 = complex_number(70, 30)\n",
    "\n",
    "print(complex1)\n",
    "print(complex2)\n",
    "print(complex1 + complex2)\n",
    "print(complex1 * complex2)"
   ]
  },
  {
   "cell_type": "markdown",
   "metadata": {},
   "source": [
    "# Исключения\n",
    "\n",
    "**Исключения** возникают тогда, когда в программе возникает некоторая исключительная ситуация **во время выполнения**. Например, к чему приведёт попытка чтения несуществующего файла? Или если файл был случайно удалён, пока программа работала? Такие ситуации обрабатываются при помощи исключений. Исключения — это конструкция языка позволяющая управлять потоком выполнения.\n",
    "\n",
    "Исключение может быть обработано программно. Например, мы хотим, чтобы выполнение программы не прерывалось при попытке чтения отсутствующего файла (если файла нет, то мы предлагаем пользователю ввод с клавиатуры).\n",
    "\n",
    "Если программа не обработала это исключение, то ее выполнение прерывается с выводом сообщения и трэйса (Traceback)."
   ]
  },
  {
   "cell_type": "code",
   "execution_count": 22,
   "metadata": {
    "collapsed": false
   },
   "outputs": [
    {
     "ename": "ZeroDivisionError",
     "evalue": "division by zero",
     "traceback": [
      "\u001b[0;31m---------------------------------------------------------------------------\u001b[0m",
      "\u001b[0;31mZeroDivisionError\u001b[0m                         Traceback (most recent call last)",
      "\u001b[0;32m<ipython-input-22-105373b3adad>\u001b[0m in \u001b[0;36m<module>\u001b[0;34m()\u001b[0m\n\u001b[0;32m----> 1\u001b[0;31m \u001b[0;36m7\u001b[0m\u001b[0;34m/\u001b[0m\u001b[0;36m0\u001b[0m\u001b[0;34m\u001b[0m\u001b[0m\n\u001b[0m",
      "\u001b[0;31mZeroDivisionError\u001b[0m: division by zero"
     ],
     "output_type": "error"
    }
   ],
   "source": [
    "7/0"
   ]
  },
  {
   "cell_type": "code",
   "execution_count": 33,
   "metadata": {
    "collapsed": true
   },
   "outputs": [],
   "source": [
    "class my_new_class:\n",
    "    def __init__(self, a):\n",
    "        self.a = a\n",
    "    def __truediv__(self, other):\n",
    "        return self.a / other.a"
   ]
  },
  {
   "cell_type": "code",
   "execution_count": 35,
   "metadata": {
    "collapsed": false
   },
   "outputs": [
    {
     "name": "stdout",
     "output_type": "stream",
     "text": [
      "0.8\n"
     ]
    },
    {
     "ename": "ZeroDivisionError",
     "evalue": "division by zero",
     "traceback": [
      "\u001b[0;31m---------------------------------------------------------------------------\u001b[0m",
      "\u001b[0;31mZeroDivisionError\u001b[0m                         Traceback (most recent call last)",
      "\u001b[0;32m<ipython-input-35-c3ee12aa8059>\u001b[0m in \u001b[0;36m<module>\u001b[0;34m()\u001b[0m\n\u001b[1;32m      1\u001b[0m \u001b[0mprint\u001b[0m\u001b[0;34m(\u001b[0m\u001b[0mmy_new_class\u001b[0m\u001b[0;34m(\u001b[0m\u001b[0;36m4\u001b[0m\u001b[0;34m)\u001b[0m \u001b[0;34m/\u001b[0m \u001b[0mmy_new_class\u001b[0m\u001b[0;34m(\u001b[0m\u001b[0;36m5\u001b[0m\u001b[0;34m)\u001b[0m\u001b[0;34m)\u001b[0m  \u001b[0;31m# все хорошо\u001b[0m\u001b[0;34m\u001b[0m\u001b[0m\n\u001b[0;32m----> 2\u001b[0;31m \u001b[0mprint\u001b[0m\u001b[0;34m(\u001b[0m\u001b[0mmy_new_class\u001b[0m\u001b[0;34m(\u001b[0m\u001b[0;36m4\u001b[0m\u001b[0;34m)\u001b[0m \u001b[0;34m/\u001b[0m \u001b[0mmy_new_class\u001b[0m\u001b[0;34m(\u001b[0m\u001b[0;36m0\u001b[0m\u001b[0;34m)\u001b[0m\u001b[0;34m)\u001b[0m  \u001b[0;31m# все плохо\u001b[0m\u001b[0;34m\u001b[0m\u001b[0m\n\u001b[0m",
      "\u001b[0;32m<ipython-input-33-a238ab1550af>\u001b[0m in \u001b[0;36m__truediv__\u001b[0;34m(self, other)\u001b[0m\n\u001b[1;32m      3\u001b[0m         \u001b[0mself\u001b[0m\u001b[0;34m.\u001b[0m\u001b[0ma\u001b[0m \u001b[0;34m=\u001b[0m \u001b[0ma\u001b[0m\u001b[0;34m\u001b[0m\u001b[0m\n\u001b[1;32m      4\u001b[0m     \u001b[0;32mdef\u001b[0m \u001b[0m__truediv__\u001b[0m\u001b[0;34m(\u001b[0m\u001b[0mself\u001b[0m\u001b[0;34m,\u001b[0m \u001b[0mother\u001b[0m\u001b[0;34m)\u001b[0m\u001b[0;34m:\u001b[0m\u001b[0;34m\u001b[0m\u001b[0m\n\u001b[0;32m----> 5\u001b[0;31m         \u001b[0;32mreturn\u001b[0m \u001b[0mself\u001b[0m\u001b[0;34m.\u001b[0m\u001b[0ma\u001b[0m \u001b[0;34m/\u001b[0m \u001b[0mother\u001b[0m\u001b[0;34m.\u001b[0m\u001b[0ma\u001b[0m\u001b[0;34m\u001b[0m\u001b[0m\n\u001b[0m",
      "\u001b[0;31mZeroDivisionError\u001b[0m: division by zero"
     ],
     "output_type": "error"
    }
   ],
   "source": [
    "print(my_new_class(4) / my_new_class(5))  # все хорошо\n",
    "print(my_new_class(4) / my_new_class(0))  # все плохо"
   ]
  },
  {
   "cell_type": "markdown",
   "metadata": {},
   "source": [
    "# Обработка исключений\n",
    "\n",
    "\"Поймать\" исключение (т.е. не дать программе прервать выполнение) можно с помощью конструкции try..except\n",
    "\n",
    "подробнее: https://wombat.org.ua/AByteOfPython/exceptions.html"
   ]
  },
  {
   "cell_type": "code",
   "execution_count": 36,
   "metadata": {
    "collapsed": false
   },
   "outputs": [
    {
     "name": "stdout",
     "output_type": "stream",
     "text": [
      "Паника! Деление на ноль!\n"
     ]
    }
   ],
   "source": [
    "try:\n",
    "    print(my_new_class(4) / my_new_class(0))\n",
    "except ZeroDivisionError:  # ловим не все подряд, а только конкретное исключение\n",
    "    print('Паника! Деление на ноль!')"
   ]
  },
  {
   "cell_type": "markdown",
   "metadata": {},
   "source": [
    "# Вызов исключения\n",
    "\n",
    "Как сказать остальной программе, что произошло что-то непредвиденное? Использовать конструкцию raise"
   ]
  },
  {
   "cell_type": "markdown",
   "metadata": {},
   "source": [
    "# юнит-тестирование\n",
    "\n",
    "Модульное тестирование, или юнит-тестирование (англ. unit testing) — процесс в программировании, позволяющий проверить на корректность отдельные модули исходного кода программы.\n",
    "\n",
    "Идея состоит в том, чтобы писать тесты для каждой нетривиальной функции или метода. Это позволяет достаточно быстро проверить, не привело ли очередное изменение кода к регрессии, то есть к появлению ошибок в уже оттестированных местах программы, а также облегчает обнаружение и устранение таких ошибок.\n",
    "\n",
    "Не нужно писать тесты если:\n",
    "* Вы всегда пишете код без ошибок, обладаете идеальной памятью и даром предвидения.\n",
    "* Ваш код настолько крут, что изменяет себя сам, вслед за требованиями клиента. \n",
    "* Иногда код объясняет клиенту, что его требования — гов не нужно реализовывать\n",
    "\n",
    "Основные правила написания юнит-тестов:\n",
    "* Тестируйте один метод за один раз\n",
    "* Выполнение каждого теста не должно зависеть от всех других\n",
    "* Тестируйте по возможности все возможные ветки исполнения\n",
    "* Анализируйте, какое поведение ожидается от функции в каждом случае"
   ]
  },
  {
   "cell_type": "code",
   "execution_count": 40,
   "metadata": {
    "collapsed": false
   },
   "outputs": [
    {
     "name": "stderr",
     "output_type": "stream",
     "text": [
      ".\n",
      "----------------------------------------------------------------------\n",
      "Ran 1 test in 0.001s\n",
      "\n",
      "OK\n"
     ]
    },
    {
     "data": {
      "text/plain": [
       "<unittest.runner.TextTestResult run=1 errors=0 failures=0>"
      ]
     },
     "execution_count": 40,
     "metadata": {},
     "output_type": "execute_result"
    }
   ],
   "source": [
    "# Меньше слов - больше дела\n",
    "\n",
    "from unittest import *\n",
    "\n",
    "class test_complex_number (TestCase):\n",
    "    def test_add(self):\n",
    "        ''' Check complex adding '''\n",
    "        c1 = complex_number(1, 2)\n",
    "        c2 = complex_number(10, 20)\n",
    "        c3 = c1 + c2\n",
    "        self.assertEqual(c3.a, 11)\n",
    "        self.assertEqual(c3.b, 22)\n",
    "        \n",
    "a = test_complex_number()\n",
    "\n",
    "suite = TestLoader().loadTestsFromModule(a)\n",
    "TextTestRunner().run(suite)"
   ]
  }
 ],
 "metadata": {
  "kernelspec": {
   "display_name": "Python 3",
   "language": "python",
   "name": "python3"
  },
  "language_info": {
   "codemirror_mode": {
    "name": "ipython",
    "version": 3
   },
   "file_extension": ".py",
   "mimetype": "text/x-python",
   "name": "python",
   "nbconvert_exporter": "python",
   "pygments_lexer": "ipython3",
   "version": "3.6.0"
  }
 },
 "nbformat": 4,
 "nbformat_minor": 0
}
