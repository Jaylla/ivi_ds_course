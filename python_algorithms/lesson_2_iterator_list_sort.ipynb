{
 "cells": [
  {
   "cell_type": "markdown",
   "metadata": {
    "collapsed": true
   },
   "source": [
    "# Jupyter Notebook\n",
    "\n",
    "Это интерактивная оболочка для языка программирования Python. Она позволяет запускать ноутбуки (файлы с расширением .ipynb) в браузере, выполнять код поэтапно ячейку за ячейкой, сохраняя между этапами значения всех переменных и дает возможности для визуального оформления результатов"
   ]
  },
  {
   "cell_type": "code",
   "execution_count": 1,
   "metadata": {
    "collapsed": true
   },
   "outputs": [],
   "source": [
    "a = 5 + 2"
   ]
  },
  {
   "cell_type": "code",
   "execution_count": 2,
   "metadata": {
    "collapsed": false
   },
   "outputs": [
    {
     "data": {
      "text/plain": [
       "7"
      ]
     },
     "execution_count": 2,
     "metadata": {},
     "output_type": "execute_result"
    }
   ],
   "source": [
    "a"
   ]
  },
  {
   "cell_type": "code",
   "execution_count": 3,
   "metadata": {
    "collapsed": false
   },
   "outputs": [
    {
     "data": {
      "image/png": "[encoded data removed]",
      "text/plain": [
       "<matplotlib.figure.Figure at 0x7f0e2fbfdc50>"
      ]
     },
     "metadata": {},
     "output_type": "display_data"
    }
   ],
   "source": [
    "%matplotlib inline\n",
    "import numpy as np\n",
    "import matplotlib.pyplot as plt\n",
    "t = np.arange(0., 5., 0.2)\n",
    "plt.plot(t, t, 'r--', t, t**2, 'bs', t, t**3, 'g^')\n",
    "plt.show()"
   ]
  },
  {
   "cell_type": "markdown",
   "metadata": {},
   "source": [
    "# Списки\n",
    "\n",
    "Списки в Python - упорядоченные изменяемые коллекции объектов произвольных типов. Справочник сложностей разных операций для различных типов данных: https://wiki.python.org/moin/TimeComplexity"
   ]
  },
  {
   "cell_type": "code",
   "execution_count": 12,
   "metadata": {
    "collapsed": false
   },
   "outputs": [
    {
     "name": "stdout",
     "output_type": "stream",
     "text": [
      "6\n",
      "3\n",
      "12\n",
      "[7, 3, -1, 4, 6, 7, 9, 8, 11, 12, 13]\n",
      "-1\n"
     ]
    }
   ],
   "source": [
    "l = [7, 3, 4, 6, 7, 9]\n",
    "\n",
    "print(len(l))   # длина списка (сложность O(1))\n",
    "\n",
    "if 8 not in l:  # проверка принадлежности списку (сложность O(n))\n",
    "    l.append(8) # добавление в конец списка (сложность O(1))\n",
    "    \n",
    "l.insert(2, -1) # а еще можно добавить на определенную позицию (сложность O(n))\n",
    "l.extend([11, 12, 13]) # или добавить в конец целую последовательность\n",
    "\n",
    "print(l[1])     # получение элемента по индексу (сложность O(1))\n",
    "print(l[-2])    # получение второго с конца элемента списка\n",
    "print(l)\n",
    "\n",
    "print(min(l))   # нахождение минимального элемента (сложность O(n))"
   ]
  },
  {
   "cell_type": "markdown",
   "metadata": {},
   "source": [
    "Для получения срезов последовательности в Пайтоне принято указывать не номера элементов, а номера «промежутков» между ними. Перед первым элементом последовательности промежуток имеет индекс 0, перед вторым – 1 и так далее. Отрицательные значения отсчитывают элементы с конца строки.\n",
    "В общем виде срез записывается в следующем виде:\n",
    "список[начало: конец: шаг]\n",
    "По умолчанию начало среза равно 0, конец среза равен len(список), шаг равен 1. Если шаг не указывается, второй символ «:» можно опустить.\n",
    "\n",
    "https://habrahabr.ru/post/30092/"
   ]
  },
  {
   "cell_type": "code",
   "execution_count": 7,
   "metadata": {
    "collapsed": false
   },
   "outputs": [
    {
     "name": "stdout",
     "output_type": "stream",
     "text": [
      "[3, -1]\n",
      "[12, 13]\n",
      "[7, -1, 6, 9, 11, 13]\n"
     ]
    }
   ],
   "source": [
    "# Получение среза или диапазона элементов из списка\n",
    "\n",
    "print(l[1:3])  # элементы с индексами 1 и 3\n",
    "print(l[-2:])  # последние два элемента\n",
    "print(l[::2])  # только элементы с четными индексами"
   ]
  },
  {
   "cell_type": "markdown",
   "metadata": {},
   "source": [
    "Список можно использовать в качестве стека.\n",
    "\n",
    "Стек — абстрактный тип данных, представляющий собой список элементов, организованных по принципу LIFO (англ. last in — first out, «последним пришёл — первым вышел»). Чаще всего принцип работы стека сравнивают со стопкой тарелок: чтобы взять вторую сверху, нужно снять верхнюю.\n",
    "\n",
    "Программный вид стека используется для обхода структур данных, например, дерево или граф. При использовании рекурсивных функций также будет применяться стек."
   ]
  },
  {
   "cell_type": "code",
   "execution_count": 6,
   "metadata": {
    "collapsed": false
   },
   "outputs": [
    {
     "name": "stdout",
     "output_type": "stream",
     "text": [
      "o\n",
      "k\n",
      "l\n",
      "['f']\n"
     ]
    }
   ],
   "source": [
    "stack = ['f', 'l', 'k']\n",
    "stack.append('o') # добавляет элемент \"наверх\" стека (стопки)\n",
    "print(stack.pop()) # возвращает верхний элемент и удаляет его из стека\n",
    "print(stack.pop())\n",
    "print(stack.pop())\n",
    "\n",
    "print(stack)"
   ]
  },
  {
   "cell_type": "markdown",
   "metadata": {},
   "source": [
    "# Итераторы\n",
    "\n",
    "Итератор — это объект, который позволяет брать из источника элемент за элементом, при этом итератор знает только о том объекте, на котором он в текущий момент остановился.\n",
    "\n",
    "У итератора в обязательном порядке должна быть функция next() (и кроме того функция __iter__)"
   ]
  },
  {
   "cell_type": "code",
   "execution_count": 8,
   "metadata": {
    "collapsed": false
   },
   "outputs": [
    {
     "name": "stdout",
     "output_type": "stream",
     "text": [
      "0\n",
      "1\n",
      "2\n",
      "3\n",
      "4\n",
      "5\n",
      "6\n",
      "7\n",
      "8\n",
      "9\n"
     ]
    }
   ],
   "source": [
    "a = [0, 1, 2, 3, 4, 5, 6, 7, 8, 9]\n",
    "\n",
    "for i in a:\n",
    "    print(i)"
   ]
  },
  {
   "cell_type": "code",
   "execution_count": 9,
   "metadata": {
    "collapsed": false
   },
   "outputs": [
    {
     "name": "stdout",
     "output_type": "stream",
     "text": [
      "0\n",
      "1\n",
      "2\n",
      "3\n",
      "4\n",
      "5\n",
      "6\n",
      "7\n",
      "8\n",
      "9\n"
     ]
    }
   ],
   "source": [
    "# Теперь то же самое только с помощью итератора\n",
    "\n",
    "class simple_iterator:\n",
    "    def __init__(self, n):\n",
    "        self.i = 0\n",
    "        self.n = n\n",
    "    def __iter__(self):\n",
    "        return self\n",
    "    def __next__(self):\n",
    "        if self.i < self.n:\n",
    "            i = self.i\n",
    "            self.i += 1\n",
    "            return i\n",
    "        else:\n",
    "            raise StopIteration()\n",
    "            \n",
    "for i in simple_iterator(10):\n",
    "    print(i)"
   ]
  },
  {
   "cell_type": "markdown",
   "metadata": {},
   "source": [
    "# Генераторы\n",
    "\n",
    "А теперь чуть сложнее...\n",
    "\n",
    "iterator is a more general concept: any object whose class has a next method (\\__next\\__ in Python 3) and an \\__iter\\__ method that does return self. Every generator is an iterator, but not vice versa. A generator is built by calling a function that has one or more yield expressions. (ответ с сайта stackoverflow)\n",
    "\n",
    "Теперь на примере."
   ]
  },
  {
   "cell_type": "code",
   "execution_count": 11,
   "metadata": {
    "collapsed": false
   },
   "outputs": [
    {
     "name": "stdout",
     "output_type": "stream",
     "text": [
      "1\n",
      "4\n",
      "9\n"
     ]
    }
   ],
   "source": [
    "def squares(start, stop):\n",
    "    for i in range(start, stop):\n",
    "        yield i * i\n",
    "        \n",
    "for s in squares(1, 4):\n",
    "    print(s)"
   ]
  },
  {
   "cell_type": "markdown",
   "metadata": {},
   "source": [
    "Чтобы освоить yield, вы должны понимать, что когда вы вызываете функцию, код внутри тела функции не исполняется. Функция только возвращает объект-генератор.\n",
    "\n",
    "Ваш код будет вызываться каждый раз, когда for обращается к генератору.\n",
    "\n",
    "В первый запуск вашей функции, она будет исполняться от начала до того момента, когда она наткнётся на yield — тогда она вернёт первое значение из цикла. На каждый следующий вызов будет происходить ещё одна итерация написанного вами цикла, возвращаться будет следующее значение — и так пока значения не кончатся.\n",
    "\n",
    "Подробнее: https://habrahabr.ru/post/132554/ (**очень рекомендую прочитать!**)"
   ]
  },
  {
   "cell_type": "markdown",
   "metadata": {},
   "source": [
    "# Сортировка\n",
    "\n",
    "**Сортировка выбором**\n",
    "\n",
    "Шаги алгоритма:\n",
    "* находим номер минимального значения в текущем списке\n",
    "* производим обмен этого значения со значением первой неотсортированной позиции (обмен не нужен, если минимальный элемент уже находится на данной позиции)\n",
    "* теперь сортируем хвост списка, исключив из рассмотрения уже отсортированные элементы\n",
    "\n",
    "Сложность O(n^2)"
   ]
  },
  {
   "cell_type": "code",
   "execution_count": 19,
   "metadata": {
    "collapsed": true
   },
   "outputs": [],
   "source": [
    "def selection_sort(source):\n",
    "    for i in range(len(source)):\n",
    "        mini = min(source[i:]) #find minimum element\n",
    "        min_index = source[i:].index(mini) #find index of minimum element\n",
    "        source[i + min_index] = source[i] #replace element at min_index with first element\n",
    "        source[i] = mini                  #replace first element with min element\n",
    "    return source"
   ]
  },
  {
   "cell_type": "code",
   "execution_count": 20,
   "metadata": {
    "collapsed": false
   },
   "outputs": [
    {
     "name": "stdout",
     "output_type": "stream",
     "text": [
      "[17, 20, 26, 31, 44, 54, 55, 77, 93]\n"
     ]
    }
   ],
   "source": [
    "print(selection_sort([54,26,93,17,77,31,44,55,20]))"
   ]
  },
  {
   "cell_type": "markdown",
   "metadata": {},
   "source": [
    "# Быстрая сортировка\n",
    "\n",
    "Алгоритм состоит из трёх шагов:\n",
    "\n",
    "* Выбрать элемент из массива. Назовём его опорным.\n",
    "* Разбиение: перераспределение элементов в массиве таким образом, что элементы меньше опорного помещаются перед ним, а больше или равные после.\n",
    "* Рекурсивно применить первые два шага к двум подмассивам слева и справа от опорного элемента. Рекурсия не применяется к массиву, в котором только один или отсутствуют элементы.\n",
    "\n",
    "Почему сложность O(n * log n)? (логарифмы тут подразумеваются двоичные)\n",
    "\n",
    "В наиболее сбалансированном варианте при каждой операции разделения массив делится на две почти одинаковые части, следовательно, максимальная глубина рекурсии, при которой размеры обрабатываемых подмассивов достигнут 1, составит log n. Для каждого разбиения мы сравниваем опорный элемент с остальными элементами подмассива, что дает множетель n в оценке сложности"
   ]
  },
  {
   "cell_type": "markdown",
   "metadata": {},
   "source": [
    "![Лучший случай](img/quick1.png)\n",
    "\n",
    "**Более формальное описание процедуры разделения:**\n",
    "\n",
    "* Введем два указателя: i и j. В начале алгоритма они указывают, соответственно, на левый и правый конец последовательности.\n",
    "* Будем двигать указатель i с шагом в 1 элемент по направлению к концу массива, пока не будет найден элемент a[i] >= p. * Затем аналогичным образом начнем двигать указатель j от конца массива к началу, пока не будет найден a[j] <= p.\n",
    "* Далее, если i <= j, меняем a[i] и a[j] местами и продолжаем двигать i,j по тем же правилам...\n",
    "* Повторяем шаг 3, пока i <= j.\n"
   ]
  },
  {
   "cell_type": "code",
   "execution_count": 21,
   "metadata": {
    "collapsed": true
   },
   "outputs": [],
   "source": [
    "def partition(myList, start, end):\n",
    "    pivot = myList[start]  # опорным выбирается первый элемент\n",
    "    left = start+1\n",
    "    right = end\n",
    "    done = False\n",
    "    while not done:\n",
    "        while left <= right and myList[left] <= pivot:\n",
    "            left = left + 1\n",
    "        while myList[right] >= pivot and right >=left:\n",
    "            right = right -1\n",
    "        if right < left:\n",
    "            done= True\n",
    "        else:\n",
    "            # меняем местами\n",
    "            temp=myList[left]\n",
    "            myList[left]=myList[right]\n",
    "            myList[right]=temp\n",
    "    # меняем опорный местами с myList[right] (чтобы он стоял не на первой позиции а делил пополам)\n",
    "    temp=myList[start]\n",
    "    myList[start]=myList[right]\n",
    "    myList[right]=temp\n",
    "    return right\n",
    "\n",
    "\n",
    "def quicksort(myList, start, end):\n",
    "    if start < end:\n",
    "        pivot = partition(myList, start, end)\n",
    "        # рекурсивная сортировка двух частей\n",
    "        quicksort(myList, start, pivot-1)\n",
    "        quicksort(myList, pivot+1, end)\n",
    "    return myList"
   ]
  },
  {
   "cell_type": "code",
   "execution_count": 25,
   "metadata": {
    "collapsed": false
   },
   "outputs": [
    {
     "name": "stdout",
     "output_type": "stream",
     "text": [
      "[17, 20, 26, 31, 44, 54, 55, 77, 93]\n"
     ]
    }
   ],
   "source": [
    "# Тестирование\n",
    "list_for_sort = [54,26,93,17,77,31,44,55,20]\n",
    "sorted_list = quicksort(list_for_sort, 0, len(list_for_sort)-1)\n",
    "print(sorted_list)"
   ]
  },
  {
   "cell_type": "markdown",
   "metadata": {},
   "source": [
    "**Все круто? Нет**\n",
    "* Неустойчивость\n",
    "* Проблема выбора опорного элемента\n",
    "\n",
    "**Вариации**\n",
    "* Выбор опорного элемнта\n",
    "* Количество опорных эелементов\n",
    "Тут разбор случая с двумя опорами: http://codeblab.com/wp-content/uploads/2009/09/DualPivotQuicksort.pdf (с оценкой эффективности в сравнении с классическим вариантом)"
   ]
  },
  {
   "cell_type": "markdown",
   "metadata": {},
   "source": [
    "# Двоичный поиск\n",
    "\n",
    "\n",
    "* Определение значения элемента в середине структуры данных. Полученное значение сравнивается с ключом.\n",
    "* Если ключ меньше значения середины то поиск осуществляется в первой половине элементов, иначе — во второй.\n",
    "* Поиск сводится к тому, что вновь определяется значение серединного элемента в выбранной половине и сравнивается с ключом.\n",
    "* Процесс продолжается до тех пор, пока не будет найден элемент со значением ключа или не станет пустым интервал для поиска."
   ]
  },
  {
   "cell_type": "code",
   "execution_count": 24,
   "metadata": {
    "collapsed": true
   },
   "outputs": [],
   "source": [
    "def binary_search(lst, x):\n",
    "    l = 0\n",
    "    r = len(lst)\n",
    "    while r - l > 1:\n",
    "        m = (l + r) // 2\n",
    "        if x < lst[m]:\n",
    "            r = m\n",
    "        else:\n",
    "            l = m\n",
    "    return l if lst[l] == x else None "
   ]
  },
  {
   "cell_type": "code",
   "execution_count": 26,
   "metadata": {
    "collapsed": false
   },
   "outputs": [
    {
     "name": "stdout",
     "output_type": "stream",
     "text": [
      "2\n"
     ]
    }
   ],
   "source": [
    "print(binary_search(sorted_list, 26))"
   ]
  }
 ],
 "metadata": {
  "kernelspec": {
   "display_name": "Python 3",
   "language": "python",
   "name": "python3"
  },
  "language_info": {
   "codemirror_mode": {
    "name": "ipython",
    "version": 3
   },
   "file_extension": ".py",
   "mimetype": "text/x-python",
   "name": "python",
   "nbconvert_exporter": "python",
   "pygments_lexer": "ipython3",
   "version": "3.6.0"
  }
 },
 "nbformat": 4,
 "nbformat_minor": 0
}
