{
 "cells": [
  {
   "cell_type": "code",
   "execution_count": null,
   "metadata": {
    "collapsed": false
   },
   "outputs": [
    {
     "name": "stdout",
     "output_type": "stream",
     "text": [
      "Здравствуй, Мир!\n"
     ]
    }
   ],
   "source": [
    "print(\"Здравствуй, %s!\" % \"Мир\")"
   ]
  },
  {
   "cell_type": "markdown",
   "metadata": {},
   "source": [
    "**Python** поддерживает динамическую типизацию, то есть тип переменной определяется только во время исполнения. Поэтому вместо «присваивания значения переменной» лучше говорить о «связывании значения с некоторым именем». \n",
    "В Python имеются встроенные типы: булевый, строка, Unicode-строка, целое число произвольной точности, число с плавающей запятой, комплексное число и некоторые другие. Из коллекций в Python встроены: список, кортеж, словарь, множество и другие. Все значения являются объектами, в том числе функции, методы, модули, классы."
   ]
  },
  {
   "cell_type": "code",
   "execution_count": 2,
   "metadata": {
    "collapsed": false
   },
   "outputs": [
    {
     "name": "stdout",
     "output_type": "stream",
     "text": [
      "12\n"
     ]
    }
   ],
   "source": [
    "a = 5\n",
    "b = 7\n",
    "print(a + b)"
   ]
  },
  {
   "cell_type": "markdown",
   "metadata": {},
   "source": [
    "# Условный оператор\n",
    "\n",
    "![Условие](img/if0.jpg)\n",
    "\n",
    "Условный оператор if (если). Альтернативный блок после else (иначе). Если условий и альтернатив несколько, можно использовать elif (сокр. от else if)."
   ]
  },
  {
   "cell_type": "code",
   "execution_count": 3,
   "metadata": {
    "collapsed": false
   },
   "outputs": [
    {
     "name": "stdout",
     "output_type": "stream",
     "text": [
      "1\n",
      "Единица\n"
     ]
    }
   ],
   "source": [
    "x = int(input()) # ввод числа\n",
    "\n",
    "if x < 0:\n",
    "    print(u'Отрицательное число')\n",
    "elif x == 0:\n",
    "    print(u'Нуль')\n",
    "elif x == 1:\n",
    "    print(u'Единица')\n",
    "else:\n",
    "    print(u'Другое положительное число')"
   ]
  },
  {
   "cell_type": "code",
   "execution_count": 4,
   "metadata": {
    "collapsed": false
   },
   "outputs": [
    {
     "name": "stdout",
     "output_type": "stream",
     "text": [
      "one\n"
     ]
    }
   ],
   "source": [
    "# Однострочная форма\n",
    "\n",
    "my_var = 'one' if x == 1 else 'other'\n",
    "print(my_var)"
   ]
  },
  {
   "cell_type": "markdown",
   "metadata": {},
   "source": [
    "# Циклы\n",
    "\n",
    "![While](img/while0.jpg)"
   ]
  },
  {
   "cell_type": "code",
   "execution_count": 5,
   "metadata": {
    "collapsed": false
   },
   "outputs": [
    {
     "name": "stdout",
     "output_type": "stream",
     "text": [
      "0\n",
      "1\n",
      "2\n",
      "3\n",
      "4\n"
     ]
    }
   ],
   "source": [
    "i = 0\n",
    "while i < 5:\n",
    "    print(i)\n",
    "    i += 1"
   ]
  },
  {
   "cell_type": "markdown",
   "metadata": {},
   "source": [
    "# Числа Фибоначчи\n",
    "\n",
    "Числа Фибоначчи — элементы последовательности:\n",
    "    0, 1, 1, 2, 3, 5, 8, 13, 21, 34, 55, 89, 144, 233, 377, 610, 987, 1597, 2584, 4181, 6765, 10946, …\n",
    "    \n",
    "![While](img/fib0.svg)"
   ]
  },
  {
   "cell_type": "code",
   "execution_count": 6,
   "metadata": {
    "collapsed": true
   },
   "outputs": [],
   "source": [
    "def fib1(n):\n",
    "    if n==1 or n==2:\n",
    "        return 1\n",
    "    fib1 = 1\n",
    "    fib2 = 1\n",
    "    i = 2 \n",
    "    while i < n:\n",
    "        fib_sum = fib2 + fib1\n",
    "        fib1 = fib2\n",
    "        fib2 = fib_sum\n",
    "        i += 1\n",
    "    return fib_sum"
   ]
  },
  {
   "cell_type": "code",
   "execution_count": 7,
   "metadata": {
    "collapsed": true
   },
   "outputs": [],
   "source": [
    "def fib2(n):\n",
    "    if n==1 or n==2:\n",
    "        return 1\n",
    "    return fib2(n-1) + fib2(n-2)"
   ]
  },
  {
   "cell_type": "code",
   "execution_count": 8,
   "metadata": {
    "collapsed": false
   },
   "outputs": [
    {
     "name": "stdout",
     "output_type": "stream",
     "text": [
      "35\n",
      "9227465\n",
      "9227465\n"
     ]
    }
   ],
   "source": [
    "n = int(input())\n",
    "print(fib1(n))\n",
    "print(fib2(n))"
   ]
  },
  {
   "cell_type": "code",
   "execution_count": 9,
   "metadata": {
    "collapsed": false
   },
   "outputs": [
    {
     "name": "stdout",
     "output_type": "stream",
     "text": [
      "CPU times: user 0 ns, sys: 0 ns, total: 0 ns\n",
      "Wall time: 10.5 µs\n",
      "CPU times: user 2.38 s, sys: 0 ns, total: 2.38 s\n",
      "Wall time: 2.38 s\n"
     ]
    },
    {
     "data": {
      "text/plain": [
       "9227465"
      ]
     },
     "execution_count": 9,
     "metadata": {},
     "output_type": "execute_result"
    }
   ],
   "source": [
    "%time fib1(35)\n",
    "%time fib2(35)"
   ]
  },
  {
   "cell_type": "markdown",
   "metadata": {
    "collapsed": true
   },
   "source": [
    "У решения с рекурсией есть большая проблема: пересекающиеся вычисления. Когда вызывается fib2(n), то подсчитываются fib2(n-1) и fib2(n-2). Но когда считается fib(n-1), она снова независимо подсчитает fib2(n-2) – то есть, fib2(n-2) подсчитается дважды. Если продолжить рассуждения, будет видно, что fib2(n-3) будет подсчитана трижды, и т.д. Слишком много пересечений.\n",
    "Получаем экспоненциальное время выполнения.\n",
    "\n",
    "Какое время выполнение у **fib1**?"
   ]
  },
  {
   "cell_type": "markdown",
   "metadata": {},
   "source": [
    "# Сложность алгоритмов\n",
    "\n",
    "Анализ сложности позволяет нам предсказать, как будет вести себя алгоритм при возрастании входного потока данных. Если наш алгоритм выполняется одну секунду при 1000 элементах на входе, то как он себя поведёт, если мы удвоим это значение? Будет работать также быстро, в полтора раза быстрее или в четыре раза медленнее?\n",
    "\n",
    "Можно прямо подсчитать количество \"элементарных\" операций, которые выполнит программа в процессе работы. На примере **fib1**\n",
    "\n",
    "Что есть \"элементарные\" операции:\n",
    "+ Присваивать значение переменной\n",
    "+ Находить значение конкретного элемента в массиве\n",
    "+ Сравнивать два значения\n",
    "+ Основные арифметические операции (например, сложение и умножение)"
   ]
  },
  {
   "cell_type": "code",
   "execution_count": 2,
   "metadata": {
    "collapsed": true
   },
   "outputs": [],
   "source": [
    "def fib1(n):\n",
    "    # 2 операции сравнения + 1 логическая операция\n",
    "    if n==1 or n==2:\n",
    "        return 1\n",
    "    # 3 присваивания\n",
    "    fib1 = 1\n",
    "    fib2 = 1\n",
    "    i = 2 \n",
    "    # 1 сравнение\n",
    "    while i < n:\n",
    "        # 2 присваивания, 2 арифметические операции\n",
    "        fib_sum = fib2 + fib1\n",
    "        fib1 = fib2\n",
    "        fib2 = fib_sum\n",
    "        i += 1\n",
    "    return fib_sum"
   ]
  },
  {
   "cell_type": "markdown",
   "metadata": {},
   "source": [
    "**Так мы больше делать не будем!**\n",
    "\n",
    "# Асимптотическая сложность\n",
    "\n",
    "Несмотря на то, что функция временной сложности алгоритма в некоторых случаях может быть определена точно, в большинстве случаев искать точное её значение бессмысленно. Вот почему мы отбрасываем те элементы функции, которые при росте n возрастают медленно, и оставляем только те, что растут сильно. Также отбрасываем все коэффициенты.\n",
    "\n",
    "Вместо: f(n) = 5 + 5n мы говорим, что сложность O(n)\n",
    "\n",
    "**Формально**: фраза «сложность алгоритма есть O(f(n))» означает, что с увеличением параметра n, характеризующего количество входной информации алгоритма, время работы алгоритма будет возрастать не быстрее, чем некоторая константа, умноженная на f(n)\n",
    "\n",
    "**Рекомендую проделать это упражнение для fib2**\n",
    "\n",
    "Фактически, любая программа, не содержащая циклы, имеет f(n) = 1, потому что в этом случае требуется константное число инструкций (конечно, при отсутствии рекурсии — см. далее). Одиночный цикл от 1 до n, даёт асимптотику f(n) = n, поскольку до и после цикла выполняет неизменное число команд, а постоянное же количество инструкций внутри цикла выполняется n раз. Цикл внутри цикла — f(n) = n^2."
   ]
  },
  {
   "cell_type": "markdown",
   "metadata": {},
   "source": [
    "Для самостоятельного изучения рекомендую серию статей: https://habrahabr.ru/post/196226/"
   ]
  },
  {
   "cell_type": "code",
   "execution_count": 7,
   "metadata": {
    "collapsed": false
   },
   "outputs": [
    {
     "name": "stdout",
     "output_type": "stream",
     "text": [
      "[1, 2, 3, 5, 9, 10]\n"
     ]
    }
   ],
   "source": [
    "# быстрая сортировка\n",
    "def quick_sort(a, b, e):\n",
    "    if e - b > 0:\n",
    "        p = a[e]\n",
    "        bor = b\n",
    "        for i in range(b, e):\n",
    "            if a[i] < p:\n",
    "                a[i], a[bor] = a[bor], a[i]\n",
    "                bor += 1\n",
    "        a[e], a[bor] = a[bor], a[e]   \n",
    "        quick_sort(a, b, bor-1)\n",
    "        quick_sort(a, bor+1, e)\n",
    "    return a   \n",
    "\n",
    "a1 = [5, 3, 9, 10, 1, 2]\n",
    "print(quick_sort(a1, 0, len(a1)-1))"
   ]
  },
  {
   "cell_type": "code",
   "execution_count": 9,
   "metadata": {
    "collapsed": false
   },
   "outputs": [
    {
     "data": {
      "text/plain": [
       "[1, 2, 3, 5, 9, 10]"
      ]
     },
     "execution_count": 9,
     "metadata": {},
     "output_type": "execute_result"
    }
   ],
   "source": [
    "a1"
   ]
  }
 ],
 "metadata": {
  "kernelspec": {
   "display_name": "Python 3",
   "language": "python",
   "name": "python3"
  },
  "language_info": {
   "codemirror_mode": {
    "name": "ipython",
    "version": 3
   },
   "file_extension": ".py",
   "mimetype": "text/x-python",
   "name": "python",
   "nbconvert_exporter": "python",
   "pygments_lexer": "ipython3",
   "version": "3.6.0"
  }
 },
 "nbformat": 4,
 "nbformat_minor": 0
}
